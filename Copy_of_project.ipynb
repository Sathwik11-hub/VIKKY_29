{
  "nbformat": 4,
  "nbformat_minor": 0,
  "metadata": {
    "colab": {
      "provenance": [],
      "authorship_tag": "ABX9TyPAtfyxJ9zPoca36RL+WvTf",
      "include_colab_link": true
    },
    "kernelspec": {
      "name": "python3",
      "display_name": "Python 3"
    },
    "language_info": {
      "name": "python"
    }
  },
  "cells": [
    {
      "cell_type": "markdown",
      "metadata": {
        "id": "view-in-github",
        "colab_type": "text"
      },
      "source": [
        "<a href=\"https://colab.research.google.com/github/Sathwik11-hub/VIKKY_29/blob/main/Copy_of_project.ipynb\" target=\"_parent\"><img src=\"https://colab.research.google.com/assets/colab-badge.svg\" alt=\"Open In Colab\"/></a>"
      ]
    },
    {
      "cell_type": "code",
      "execution_count": null,
      "metadata": {
        "colab": {
          "base_uri": "https://localhost:8080/"
        },
        "id": "lI2mcDbtdDPH",
        "outputId": "e9317c9b-5378-4c41-fbac-2fd97d0662c8"
      },
      "outputs": [
        {
          "output_type": "stream",
          "name": "stdout",
          "text": [
            "mufasa added to Savanna.\n",
            "chiluka added to Aviary.\n",
            "cobra added to Reptile House.\n",
            "Leo not found in Savanna.\n",
            "Rahul assigned to Savanna.\n",
            "Dr.mahesh assigned to Reptile House.\n",
            "Zoo Overview:\n",
            "Savanna (3) - Capacity: 1/Open Grassland, Animals: mufasa\n",
            "Aviary (5) - Capacity: 1/Bird Habitat, Animals: chiluka\n",
            "Reptile House (2) - Capacity: 1/Controlled Environment, Animals: cobra\n",
            "Staff Overview:\n",
            "Rahul (Zookeeper) - Assigned to: Savanna\n",
            "Dr.mahesh (Veterinarian) - Assigned to: Reptile House\n"
          ]
        }
      ],
      "source": [
        "class Animal():\n",
        "  def __init__(self,name,species,age,diet):\n",
        "    self.name = name\n",
        "    self.species = species\n",
        "    self.age = age\n",
        "    self.diet = diet\n",
        "  def __str__(self):\n",
        "    return f\"{self.name} is a {self.species}\"\n",
        "class mammels(Animal):\n",
        "  def __init__(self,name,species,age,diet,nocturnal):\n",
        "    super().__init__(name,species,age,diet)\n",
        "    self.nocturnal = nocturnal\n",
        "  def __str__(self):\n",
        "    return f\"{self.name} is a {self.species}\"\n",
        "\n",
        "  def make_sound(self):\n",
        "    return \"Roar\" if \"lion\" in self.species.lower() else \"Generic mammal sound\"\n",
        "\n",
        "class birds(Animal):\n",
        "  def __init__(self,name,species,age,diet,can_fly=False):\n",
        "    super().__init__(name,species,age,diet)\n",
        "    self.can_fly = can_fly\n",
        "  def __str__(self):\n",
        "    return f\"{self.name} is a {self.species}\"\n",
        "\n",
        "  def make_sound(self):\n",
        "    return \"Chirp\" if \"parrot\" in self.species.lower() else \"Generic bird sound\"\n",
        "\n",
        "\n",
        "class Reptile(Animal):\n",
        "    def __init__(self, name, species, age, diet, venomous=False):\n",
        "        super().__init__(name, species, age, diet)\n",
        "        self.venomous = venomous\n",
        "\n",
        "    def sound(self):\n",
        "        return \"Hiss\" if \"snake\" in self.species.lower() else \"Generic reptile sound\"\n",
        "\n",
        "class Enclosure():\n",
        "  def __init__(self,name,capacity,enclosure_type):\n",
        "    self.name = name\n",
        "    self.capacity = capacity\n",
        "    self.enclosure_type = enclosure_type\n",
        "    self.animals = []\n",
        "\n",
        "  def add_animal(self,animals):\n",
        "    if str(len(self.animals)) < self.capacity:\n",
        "            self.animals.append(animals)\n",
        "            print(f\"{animals.name} added to {self.name}.\")\n",
        "    else:\n",
        "      print(f\"Enclosure {self.name} is full.\")\n",
        "\n",
        "  def remove_animal(self,animal_name):\n",
        "       for animal in self.animals:\n",
        "            if animal.name == animal_name:\n",
        "                self.animal.remove(animal)\n",
        "                print(f\"{animal_name} removed from {self.name}.\")\n",
        "                return\n",
        "            print(f\"{animal_name} not found in {self.name}.\")\n",
        "  def __str__(self):\n",
        "        animal_list = \", \".join([animal.name for animal in self.animals]) or \"No animals\"\n",
        "        return f\"{self.name} ({self.enclosure_type}) - Capacity: {len(self.animals)}/{self.capacity}, Animals: {animal_list}\"\n",
        "\n",
        "class Staff():\n",
        "  def __init__(self, name, role, assigned_enclosure=None):\n",
        "        self.name = name\n",
        "        self.role = role\n",
        "        self.assigned_enclosure = assigned_enclosure\n",
        "\n",
        "  def assign_to_enclosure(self, enclosure):\n",
        "        self.assigned_enclosure = enclosure\n",
        "        print(f\"{self.name} assigned to {enclosure.name}.\")\n",
        "  def __str__(self):\n",
        "    enclosure_name = self.assigned_enclosure.name if self.assigned_enclosure else \"Not assigned\"\n",
        "    return f\"{self.name} ({self.role}) - Assigned to: {enclosure_name}\"\n",
        "\n",
        "if __name__ == \"__main__\":\n",
        "  savanna = Enclosure(\"Savanna\", \"Open Grassland\", 3)\n",
        "  aviary = Enclosure(\"Aviary\", \"Bird Habitat\", 5)\n",
        "  reptile_house = Enclosure(\"Reptile House\", \"Controlled Environment\", 2)\n",
        "\n",
        "  lion = mammels(\"mufasa\", \"Lion\", 5, \"Carnivore\",True)\n",
        "  parrot = birds(\"chiluka\", \"Parrot\", 3, \"Omnivore\", True)\n",
        "  snake = Reptile(\"cobra\", \"snake\", 4, \"Carnivore\", True)\n",
        "\n",
        "  savanna.add_animal(lion)\n",
        "  aviary.add_animal(parrot)\n",
        "  reptile_house.add_animal(snake)\n",
        "\n",
        "  savanna.remove_animal(\"Leo\")\n",
        "\n",
        "  zookeeper = Staff(\"Rahul\", \"Zookeeper\")\n",
        "  vet = Staff(\"Dr.mahesh\", \"Veterinarian\")\n",
        "\n",
        "  zookeeper.assign_to_enclosure(savanna)\n",
        "  vet.assign_to_enclosure(reptile_house)\n",
        "\n",
        "  print(\"Zoo Overview:\")\n",
        "  print(savanna)\n",
        "  print(aviary)\n",
        "  print(reptile_house)\n",
        "  print(\"Staff Overview:\")\n",
        "  print(zookeeper)\n",
        "  print(vet)"
      ]
    },
    {
      "cell_type": "code",
      "source": [],
      "metadata": {
        "id": "MFDV0JAjrDdS"
      },
      "execution_count": null,
      "outputs": []
    },
    {
      "cell_type": "code",
      "source": [],
      "metadata": {
        "id": "Oz1vUrIJBI-4"
      },
      "execution_count": null,
      "outputs": []
    }
  ]
}